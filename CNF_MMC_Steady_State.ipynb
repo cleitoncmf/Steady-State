{
 "cells": [
  {
   "cell_type": "markdown",
   "metadata": {
    "ipub": {
     "titlepage": {
      "author": "Authors Name",
      "email": "authors@email.com",
      "institution": [
       "Institution1",
       "Institution2"
      ],
      "logo": "path/to/logo_example.png",
      "subtitle": "Sub-Title",
      "supervisors": [
       "First Supervisor",
       "Second Supervisor"
      ],
      "tagline": "A tagline for the report.",
      "title": "Main-Title"
     }
    }
   },
   "source": [
    "# Steady-State Results of the MMC \n",
    "This notebook presents the algorithms and codes used to reach the steady state solution presented in thesis \"Equivalent Analytical Models for the Modular Multilevel Converter\". In this case, the results are computed using symbolic math. \n",
    "\n",
    "\n",
    "**Author:** Cleiton M. Freitas  \n",
    "**E-mail:** cleiton.freitas@uerj.br  \n",
    "**Date:** Mar-05-2020\n",
    "\n",
    "\n"
   ]
  },
  {
   "cell_type": "code",
   "execution_count": 3,
   "metadata": {},
   "outputs": [],
   "source": [
    "# Used package\n",
    "from sympy import *\n",
    "from sympy.simplify.fu import *"
   ]
  },
  {
   "cell_type": "markdown",
   "metadata": {},
   "source": [
    "## Definitions of general variables of the MMC\n",
    "Here are presented the symbols for the parameters of the MMC and the symbols for for the analytical steady-state value of ac voltages and currents. Notice that these values are computed in the thesis.\n"
   ]
  },
  {
   "cell_type": "code",
   "execution_count": 23,
   "metadata": {},
   "outputs": [],
   "source": [
    "# definitions of the symbolic variables\n",
    "\n",
    "t = Symbol('t', positive=True, real=True)\n",
    "w = Symbol('\\omega', positive=True, real=True)\n",
    "\n",
    "R = Symbol('R', positive=True, real=True)\n",
    "Rf = Symbol('R_f', positive=True, real=True)\n",
    "\n",
    "L = Symbol('L', positive=True, real=True)\n",
    "Lf = Symbol('L_f', positive=True, real=True)\n",
    "\n",
    "Ceq = Symbol('C_{eq}', positive=True, real=True)\n",
    "\n",
    "# Main-bus voltage\n",
    "V0 = Symbol('V_{0}', positive=True, real=True)\n",
    "vo0 = sqrt(2)*V0*sin(w*t)\n",
    "\n",
    "# Output current\n",
    "I0 = Symbol('I_{0}', positive=True, real=True)\n",
    "phii = Symbol('\\phi_i', positive=True, real=True)\n",
    "\n",
    "# Other approach for the output current\n",
    "I0s = Symbol('I_{0s}',  real=True)\n",
    "I0c = Symbol('I_{0c}',  real=True)\n",
    "io0 = I0s*sin(w*t) + I0c*cos(w*t)\n",
    "\n",
    "# Insertion Indeces\n",
    "E0ref = Symbol('E_{0}^{*}', positive=True, real=True)\n",
    "gammae = Symbol('\\gamma_e', positive=True, real=True)\n",
    "\n",
    "# Other approach for the insertion indeces\n",
    "E0sref = Symbol('E_{0}^{s*}', real=True)\n",
    "E0cref = Symbol('E_{0}^{c*}', real=True)\n",
    "eref = E0sref*sin(w*t) + E0cref*cos(w*t) \n",
    "\n",
    "mp0 = (1 - eref)/2 \n",
    "mn0 = (1 + eref)/2 "
   ]
  },
  {
   "cell_type": "markdown",
   "metadata": {},
   "source": [
    "## Definitions of the solutions\n",
    "The following variables represent the steady-state solution for the circulating current and for the equivalent dc voltages of the phase a. The amplitudes presented here are the terms to be determined to reach the solution."
   ]
  },
  {
   "cell_type": "code",
   "execution_count": 22,
   "metadata": {},
   "outputs": [
    {
     "data": {
      "text/latex": [
       "$\\displaystyle i_{cir}(t) = I_{cir_{0}} + I_{cir_{2c}} \\cos{\\left(2 \\omega t \\right)} + I_{cir_{2s}} \\sin{\\left(2 \\omega t \\right)} + I_{cir_{4c}} \\cos{\\left(4 \\omega t \\right)} + I_{cir_{4s}} \\sin{\\left(4 \\omega t \\right)}$"
      ],
      "text/plain": [
       "Eq(i_{cir}(t), I_{cir_{0}} + I_{cir_{2c}}*cos(2*\\omega*t) + I_{cir_{2s}}*sin(2*\\omega*t) + I_{cir_{4c}}*cos(4*\\omega*t) + I_{cir_{4s}}*sin(4*\\omega*t))"
      ]
     },
     "metadata": {},
     "output_type": "display_data"
    },
    {
     "data": {
      "text/latex": [
       "$\\displaystyle v_{dc}^{n}(t) = V_{dc_{0}} + V_{dc_{1c}}^n \\cos{\\left(\\omega t \\right)} + V_{dc_{1s}}^n \\sin{\\left(\\omega t \\right)} + V_{dc_{2c}}^n \\cos{\\left(2 \\omega t \\right)} + V_{dc_{2s}}^n \\sin{\\left(2 \\omega t \\right)} + V_{dc_{3c}}^n \\cos{\\left(3 \\omega t \\right)} + V_{dc_{3s}}^n \\sin{\\left(3 \\omega t \\right)} + V_{dc_{4c}}^n \\cos{\\left(4 \\omega t \\right)} + V_{dc_{4s}}^n \\sin{\\left(4 \\omega t \\right)}$"
      ],
      "text/plain": [
       "Eq(v_{dc}^{n}(t), V_{dc_{0}} + V_{dc_{1c}}^n*cos(\\omega*t) + V_{dc_{1s}}^n*sin(\\omega*t) + V_{dc_{2c}}^n*cos(2*\\omega*t) + V_{dc_{2s}}^n*sin(2*\\omega*t) + V_{dc_{3c}}^n*cos(3*\\omega*t) + V_{dc_{3s}}^n*sin(3*\\omega*t) + V_{dc_{4c}}^n*cos(4*\\omega*t) + V_{dc_{4s}}^n*sin(4*\\omega*t))"
      ]
     },
     "metadata": {},
     "output_type": "display_data"
    },
    {
     "data": {
      "text/latex": [
       "$\\displaystyle v_{dc}^{p}(t) = V_{dc_{0}} + V_{dc_{1c}}^p \\cos{\\left(\\omega t \\right)} + V_{dc_{1s}}^p \\sin{\\left(\\omega t \\right)} + V_{dc_{2c}}^p \\cos{\\left(2 \\omega t \\right)} + V_{dc_{2s}}^p \\sin{\\left(2 \\omega t \\right)} + V_{dc_{3c}}^p \\cos{\\left(3 \\omega t \\right)} + V_{dc_{3s}}^p \\sin{\\left(3 \\omega t \\right)} + V_{dc_{4c}}^p \\cos{\\left(4 \\omega t \\right)} + V_{dc_{4s}}^p \\sin{\\left(4 \\omega t \\right)}$"
      ],
      "text/plain": [
       "Eq(v_{dc}^{p}(t), V_{dc_{0}} + V_{dc_{1c}}^p*cos(\\omega*t) + V_{dc_{1s}}^p*sin(\\omega*t) + V_{dc_{2c}}^p*cos(2*\\omega*t) + V_{dc_{2s}}^p*sin(2*\\omega*t) + V_{dc_{3c}}^p*cos(3*\\omega*t) + V_{dc_{3s}}^p*sin(3*\\omega*t) + V_{dc_{4c}}^p*cos(4*\\omega*t) + V_{dc_{4s}}^p*sin(4*\\omega*t))"
      ]
     },
     "metadata": {},
     "output_type": "display_data"
    }
   ],
   "source": [
    "# Forced solution for the state variables\n",
    "\n",
    "Icir0 = Symbol('I_{cir_{0}}',  real=True)\n",
    "\n",
    "Icir1s = Symbol('I_{cir_{1s}}',  real=True)\n",
    "Icir2s = Symbol('I_{cir_{2s}}',  real=True)\n",
    "Icir3s = Symbol('I_{cir_{3s}}',  real=True)\n",
    "Icir4s = Symbol('I_{cir_{4s}}',  real=True)\n",
    "\n",
    "Icir1c = Symbol('I_{cir_{1c}}',  real=True)\n",
    "Icir2c = Symbol('I_{cir_{2c}}',  real=True)\n",
    "Icir3c = Symbol('I_{cir_{3c}}',  real=True)\n",
    "Icir4c = Symbol('I_{cir_{4c}}',  real=True)\n",
    "\n",
    "\n",
    "Vdc0 = Symbol('V_{dc_{0}}',  real=True)\n",
    "\n",
    "Vdcn1s = Symbol('V_{dc_{1s}}^n',  real=True)\n",
    "Vdcn2s = Symbol('V_{dc_{2s}}^n',  real=True)\n",
    "Vdcn3s = Symbol('V_{dc_{3s}}^n',  real=True)\n",
    "Vdcn4s = Symbol('V_{dc_{4s}}^n',  real=True)\n",
    "Vdcn5s = Symbol('V_{dc_{5s}}^n',  real=True)\n",
    "Vdcn7s = Symbol('V_{dc_{7s}}^n',  real=True)\n",
    "\n",
    "Vdcn1c = Symbol('V_{dc_{1c}}^n',  real=True)\n",
    "Vdcn2c = Symbol('V_{dc_{2c}}^n',  real=True)\n",
    "Vdcn3c = Symbol('V_{dc_{3c}}^n',  real=True)\n",
    "Vdcn4c = Symbol('V_{dc_{4c}}^n',  real=True)\n",
    "Vdcn5c = Symbol('V_{dc_{5c}}^n',  real=True)\n",
    "Vdcn7c = Symbol('V_{dc_{7c}}^n',  real=True)\n",
    "\n",
    "Vdcp1s = Symbol('V_{dc_{1s}}^p',  real=True)\n",
    "Vdcp2s = Symbol('V_{dc_{2s}}^p',  real=True)\n",
    "Vdcp3s = Symbol('V_{dc_{3s}}^p',  real=True)\n",
    "Vdcp4s = Symbol('V_{dc_{4s}}^p', real=True)\n",
    "Vdcp5s = Symbol('V_{dc_{5s}}^p', real=True)\n",
    "Vdcp7s = Symbol('V_{dc_{7s}}^p', real=True)\n",
    "\n",
    "Vdcp1c = Symbol('V_{dc_{1c}}^p',  real=True)\n",
    "Vdcp2c = Symbol('V_{dc_{2c}}^p',  real=True)\n",
    "Vdcp3c = Symbol('V_{dc_{3c}}^p',  real=True)\n",
    "Vdcp4c = Symbol('V_{dc_{4c}}^p',  real=True)\n",
    "Vdcp5c = Symbol('V_{dc_{5c}}^p',  real=True)\n",
    "Vdcp7c = Symbol('V_{dc_{7c}}^p',  real=True)\n",
    "\n",
    "\n",
    "icir = Icir0 +\\\n",
    "                Icir2s*sin(2*w*t) + Icir2c*cos(2*w*t) +\\\n",
    "                Icir4s*sin(4*w*t) + Icir4c*cos(4*w*t)\n",
    "            \n",
    "\n",
    "vdcn = Vdc0 +\\\n",
    "                Vdcn1s*sin(1*w*t) + Vdcn1c*cos(1*w*t) +\\\n",
    "                Vdcn2s*sin(2*w*t) + Vdcn2c*cos(2*w*t) +\\\n",
    "                Vdcn4s*sin(4*w*t) + Vdcn4c*cos(4*w*t) +\\\n",
    "                Vdcn3s*sin(3*w*t) + Vdcn3c*cos(3*w*t) \n",
    "            \n",
    "\n",
    "vdcp = Vdc0 +\\\n",
    "                Vdcp1s*sin(1*w*t) + Vdcp1c*cos(1*w*t) +\\\n",
    "                Vdcp2s*sin(2*w*t) + Vdcp2c*cos(2*w*t) +\\\n",
    "                Vdcp4s*sin(4*w*t) + Vdcp4c*cos(4*w*t) +\\\n",
    "                Vdcp3s*sin(3*w*t) + Vdcp3c*cos(3*w*t) \n",
    "\n",
    "\n",
    "# The equation deffined hereafter are only used to print results\n",
    "eq_icir = Eq(Symbol('i_{cir}(t)'),icir)\n",
    "eq_vdcn = Eq(Symbol('v_{dc}^{n}(t)'),vdcn)\n",
    "eq_vdcp = Eq(Symbol('v_{dc}^{p}(t)'),vdcp)\n",
    "\n",
    "display(eq_icir)\n",
    "display(eq_vdcn)\n",
    "display(eq_vdcp)\n"
   ]
  },
  {
   "cell_type": "markdown",
   "metadata": {},
   "source": [
    "## Differential equations\n",
    "The differential equations of the system are represented here. Notice that is only represented the right side of the differential equations."
   ]
  },
  {
   "cell_type": "code",
   "execution_count": 24,
   "metadata": {},
   "outputs": [
    {
     "data": {
      "text/latex": [
       "$\\displaystyle C_{eq} \\left(- V_{dc_{1c}}^p \\omega \\sin{\\left(\\omega t \\right)} + V_{dc_{1s}}^p \\omega \\cos{\\left(\\omega t \\right)} - 2 V_{dc_{2c}}^p \\omega \\sin{\\left(2 \\omega t \\right)} + 2 V_{dc_{2s}}^p \\omega \\cos{\\left(2 \\omega t \\right)} - 3 V_{dc_{3c}}^p \\omega \\sin{\\left(3 \\omega t \\right)} + 3 V_{dc_{3s}}^p \\omega \\cos{\\left(3 \\omega t \\right)} - 4 V_{dc_{4c}}^p \\omega \\sin{\\left(4 \\omega t \\right)} + 4 V_{dc_{4s}}^p \\omega \\cos{\\left(4 \\omega t \\right)}\\right) - \\left(- \\frac{E_{0}^{c*} \\cos{\\left(\\omega t \\right)}}{2} - \\frac{E_{0}^{s*} \\sin{\\left(\\omega t \\right)}}{2} + \\frac{1}{2}\\right) \\left(0.5 I_{0c} \\cos{\\left(\\omega t \\right)} + 0.5 I_{0s} \\sin{\\left(\\omega t \\right)} + I_{cir_{0}} + I_{cir_{2c}} \\cos{\\left(2 \\omega t \\right)} + I_{cir_{2s}} \\sin{\\left(2 \\omega t \\right)} + I_{cir_{4c}} \\cos{\\left(4 \\omega t \\right)} + I_{cir_{4s}} \\sin{\\left(4 \\omega t \\right)}\\right)$"
      ],
      "text/plain": [
       "C_{eq}*(-V_{dc_{1c}}^p*\\omega*sin(\\omega*t) + V_{dc_{1s}}^p*\\omega*cos(\\omega*t) - 2*V_{dc_{2c}}^p*\\omega*sin(2*\\omega*t) + 2*V_{dc_{2s}}^p*\\omega*cos(2*\\omega*t) - 3*V_{dc_{3c}}^p*\\omega*sin(3*\\omega*t) + 3*V_{dc_{3s}}^p*\\omega*cos(3*\\omega*t) - 4*V_{dc_{4c}}^p*\\omega*sin(4*\\omega*t) + 4*V_{dc_{4s}}^p*\\omega*cos(4*\\omega*t)) - (-E_{0}^{c*}*cos(\\omega*t)/2 - E_{0}^{s*}*sin(\\omega*t)/2 + 1/2)*(0.5*I_{0c}*cos(\\omega*t) + 0.5*I_{0s}*sin(\\omega*t) + I_{cir_{0}} + I_{cir_{2c}}*cos(2*\\omega*t) + I_{cir_{2s}}*sin(2*\\omega*t) + I_{cir_{4c}}*cos(4*\\omega*t) + I_{cir_{4s}}*sin(4*\\omega*t))"
      ]
     },
     "metadata": {},
     "output_type": "display_data"
    }
   ],
   "source": [
    "# Forced response for the diferential equations: second approach\n",
    "\n",
    "SE2_a = Ceq*vdcp.diff(t) - mp0*(icir + (1/2)*io0)\n",
    "SE2_b = Ceq*vdcn.diff(t) - mn0*(icir - (1/2)*io0)\n",
    "\n",
    "SE2_c = L*icir.diff(t) -(- R*icir - (1/2)*mp0*vdcp - (1/2)*mn0*vdcn + (1/2)*Vdc0)\n"
   ]
  },
  {
   "cell_type": "code",
   "execution_count": null,
   "metadata": {},
   "outputs": [],
   "source": []
  }
 ],
 "metadata": {
  "celltoolbar": "Edit Metadata",
  "hide_input": false,
  "ipub": {
   "author": "Cleiton M. Freitas",
   "email": "cleiton.freitas@uerj.br",
   "language": "English"
  },
  "kernelspec": {
   "display_name": "Python 3",
   "language": "python",
   "name": "python3"
  },
  "language_info": {
   "codemirror_mode": {
    "name": "ipython",
    "version": 3
   },
   "file_extension": ".py",
   "mimetype": "text/x-python",
   "name": "python",
   "nbconvert_exporter": "python",
   "pygments_lexer": "ipython3",
   "version": "3.7.1"
  },
  "latex_envs": {
   "LaTeX_envs_menu_present": true,
   "autoclose": false,
   "autocomplete": true,
   "bibliofile": "biblio.bib",
   "cite_by": "apalike",
   "current_citInitial": 1,
   "eqLabelWithNumbers": true,
   "eqNumInitial": 1,
   "hotkeys": {
    "equation": "Ctrl-E",
    "itemize": "Ctrl-I"
   },
   "labels_anchors": false,
   "latex_user_defs": false,
   "report_style_numbering": false,
   "user_envs_cfg": false
  }
 },
 "nbformat": 4,
 "nbformat_minor": 2
}
